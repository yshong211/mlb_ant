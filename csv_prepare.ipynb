{
 "cells": [
  {
   "cell_type": "markdown",
   "metadata": {},
   "source": [
    "### Introduction\n",
    "\n",
    "In this file, we first extract and combine the datasets for our use in prediction.\n",
    "\n",
    "At the end, we export our variables to multiple csv files for later import, for the actual modeling."
   ]
  },
  {
   "cell_type": "code",
   "execution_count": 1,
   "metadata": {},
   "outputs": [],
   "source": [
    "# load necessary libraries\n",
    "import pandas as pd\n",
    "import numpy as np\n",
    "import datetime as dt\n",
    "from sklearn.preprocessing import LabelEncoder"
   ]
  },
  {
   "cell_type": "markdown",
   "metadata": {},
   "source": [
    "if any of the libraries above is not present in your system, please install them by using this format, in your Jupyter Notebook:\n",
    "\n",
    "`!pip install your_library [--user]`"
   ]
  },
  {
   "cell_type": "code",
   "execution_count": 3,
   "metadata": {},
   "outputs": [],
   "source": [
    "# Load all MLB data and combine/merge them into one table"
   ]
  },
  {
   "cell_type": "markdown",
   "metadata": {},
   "source": [
    "Note: the following code will work only if \"archive\" folder is present in the same directory with this Jupyter notebook.\n",
    "\n",
    "Archive folder can be downloaded from [here](https://www.kaggle.com/pschale/mlb-pitch-data-20152018)."
   ]
  },
  {
   "cell_type": "code",
   "execution_count": 2,
   "metadata": {},
   "outputs": [],
   "source": [
    "pitches = pd.read_csv(\"archive/pitches.csv\")"
   ]
  },
  {
   "cell_type": "code",
   "execution_count": 3,
   "metadata": {},
   "outputs": [],
   "source": [
    "atbats = pd.read_csv('archive/atbats.csv')"
   ]
  },
  {
   "cell_type": "markdown",
   "metadata": {},
   "source": [
    "Note: the following games.csv contains some additional columns/features that were not present in the original games.csv file; it is uploaded on [GitHub](https://github.com/yshong211/mlb_ant) separately."
   ]
  },
  {
   "cell_type": "code",
   "execution_count": 4,
   "metadata": {},
   "outputs": [],
   "source": [
    "games = pd.read_csv('games.csv') "
   ]
  },
  {
   "cell_type": "code",
   "execution_count": 5,
   "metadata": {},
   "outputs": [],
   "source": [
    "names = pd.read_csv('archive/player_names.csv')"
   ]
  },
  {
   "cell_type": "code",
   "execution_count": 6,
   "metadata": {},
   "outputs": [],
   "source": [
    "# Merging pitches and atbats by ab_id\n",
    "data = pd.merge(pitches, atbats, on = 'ab_id', how = 'left')"
   ]
  },
  {
   "cell_type": "code",
   "execution_count": 7,
   "metadata": {},
   "outputs": [],
   "source": [
    "# Merging games data with pitches and atbats by g_id\n",
    "data = pd.merge(data, games, on = 'g_id', how = 'left')"
   ]
  },
  {
   "cell_type": "code",
   "execution_count": 8,
   "metadata": {},
   "outputs": [],
   "source": [
    "year = data.g_id.astype('str')"
   ]
  },
  {
   "cell_type": "code",
   "execution_count": 9,
   "metadata": {},
   "outputs": [],
   "source": [
    "# Since the year is the first four characters, we will isolate those characters\n",
    "year = year.str[:4]"
   ]
  },
  {
   "cell_type": "code",
   "execution_count": 10,
   "metadata": {},
   "outputs": [],
   "source": [
    "data['year'] = year.values"
   ]
  },
  {
   "cell_type": "markdown",
   "metadata": {},
   "source": [
    "For our purposes, we first will be using the data only the years of 2017 and 2018."
   ]
  },
  {
   "cell_type": "code",
   "execution_count": 11,
   "metadata": {},
   "outputs": [],
   "source": [
    "data1718 = data[(data['year'] == '2017') | (data['year'] == '2018')]"
   ]
  },
  {
   "cell_type": "code",
   "execution_count": 12,
   "metadata": {},
   "outputs": [
    {
     "data": {
      "text/html": [
       "<div>\n",
       "<style scoped>\n",
       "    .dataframe tbody tr th:only-of-type {\n",
       "        vertical-align: middle;\n",
       "    }\n",
       "\n",
       "    .dataframe tbody tr th {\n",
       "        vertical-align: top;\n",
       "    }\n",
       "\n",
       "    .dataframe thead th {\n",
       "        text-align: right;\n",
       "    }\n",
       "</style>\n",
       "<table border=\"1\" class=\"dataframe\">\n",
       "  <thead>\n",
       "    <tr style=\"text-align: right;\">\n",
       "      <th></th>\n",
       "      <th>id</th>\n",
       "      <th>first_name</th>\n",
       "      <th>last_name</th>\n",
       "    </tr>\n",
       "  </thead>\n",
       "  <tbody>\n",
       "    <tr>\n",
       "      <th>0</th>\n",
       "      <td>452657</td>\n",
       "      <td>Jon</td>\n",
       "      <td>Lester</td>\n",
       "    </tr>\n",
       "    <tr>\n",
       "      <th>1</th>\n",
       "      <td>425794</td>\n",
       "      <td>Adam</td>\n",
       "      <td>Wainwright</td>\n",
       "    </tr>\n",
       "    <tr>\n",
       "      <th>2</th>\n",
       "      <td>457435</td>\n",
       "      <td>Phil</td>\n",
       "      <td>Coke</td>\n",
       "    </tr>\n",
       "    <tr>\n",
       "      <th>3</th>\n",
       "      <td>435400</td>\n",
       "      <td>Jason</td>\n",
       "      <td>Motte</td>\n",
       "    </tr>\n",
       "    <tr>\n",
       "      <th>4</th>\n",
       "      <td>519166</td>\n",
       "      <td>Neil</td>\n",
       "      <td>Ramirez</td>\n",
       "    </tr>\n",
       "  </tbody>\n",
       "</table>\n",
       "</div>"
      ],
      "text/plain": [
       "       id first_name   last_name\n",
       "0  452657        Jon      Lester\n",
       "1  425794       Adam  Wainwright\n",
       "2  457435       Phil        Coke\n",
       "3  435400      Jason       Motte\n",
       "4  519166       Neil     Ramirez"
      ]
     },
     "execution_count": 12,
     "metadata": {},
     "output_type": "execute_result"
    }
   ],
   "source": [
    "names.head(5)"
   ]
  },
  {
   "cell_type": "code",
   "execution_count": 13,
   "metadata": {},
   "outputs": [],
   "source": [
    "data1718 = pd.merge(data1718, names, left_on = 'pitcher_id', right_on = 'id')"
   ]
  },
  {
   "cell_type": "code",
   "execution_count": 14,
   "metadata": {},
   "outputs": [],
   "source": [
    "data1718.to_csv(\"data1718.csv\")"
   ]
  },
  {
   "cell_type": "markdown",
   "metadata": {},
   "source": [
    "start from below, if data1718.csv is ready"
   ]
  },
  {
   "cell_type": "code",
   "execution_count": 15,
   "metadata": {},
   "outputs": [],
   "source": [
    "data1718 = pd.read_csv(\"data1718.csv\")"
   ]
  },
  {
   "cell_type": "code",
   "execution_count": 16,
   "metadata": {},
   "outputs": [],
   "source": [
    "data1718_merge = pd.DataFrame(data1718[['pitch_type', 'pitcher_id', 'year']])"
   ]
  },
  {
   "cell_type": "code",
   "execution_count": 17,
   "metadata": {},
   "outputs": [],
   "source": [
    "# drop the outliers\n",
    "data1718_merge = data1718_merge[data1718_merge.pitch_type != 'AB']\n",
    "data1718_merge = data1718_merge[data1718_merge.pitch_type != 'UN']\n",
    "data1718_merge = data1718_merge[data1718_merge.pitch_type != 'EP']\n",
    "data1718_merge = data1718_merge[data1718_merge.pitch_type != 'SC']\n",
    "data1718_merge = data1718_merge[data1718_merge.pitch_type != 'PO']\n",
    "data1718_merge = data1718_merge[data1718_merge.pitch_type != 'FO']"
   ]
  },
  {
   "cell_type": "code",
   "execution_count": 18,
   "metadata": {},
   "outputs": [],
   "source": [
    "data1718_merge.dropna(inplace=True)"
   ]
  },
  {
   "cell_type": "code",
   "execution_count": 19,
   "metadata": {},
   "outputs": [
    {
     "data": {
      "text/plain": [
       "FF    507473\n",
       "SL    240439\n",
       "FT    177897\n",
       "CH    146135\n",
       "CU    118919\n",
       "SI    108393\n",
       "FC     75883\n",
       "KC     35470\n",
       "FS     22126\n",
       "KN      3369\n",
       "Name: pitch_type, dtype: int64"
      ]
     },
     "execution_count": 19,
     "metadata": {},
     "output_type": "execute_result"
    }
   ],
   "source": [
    "data1718_merge.pitch_type.value_counts()"
   ]
  },
  {
   "cell_type": "code",
   "execution_count": 20,
   "metadata": {},
   "outputs": [],
   "source": [
    "pitcherid=set()\n",
    "for i in data1718_merge.pitcher_id:\n",
    "    pitcherid.add(i)"
   ]
  },
  {
   "cell_type": "code",
   "execution_count": 21,
   "metadata": {},
   "outputs": [
    {
     "data": {
      "text/plain": [
       "996"
      ]
     },
     "execution_count": 21,
     "metadata": {},
     "output_type": "execute_result"
    }
   ],
   "source": [
    "len(pitcherid)"
   ]
  },
  {
   "cell_type": "markdown",
   "metadata": {},
   "source": [
    "Combining FF(Four-Seam Fastball) and FT(Two-Seam Fastball) to FB (Fastball); KN and KC(KnuckleCurve) to KN (Knuckleball)\n",
    "\n",
    "The reason why we combined FF and FT to FB is that both are the types of a Fastball.\n",
    "Also, we combined KC with KN because they are similar types and there is not much value counts of KN"
   ]
  },
  {
   "cell_type": "code",
   "execution_count": 22,
   "metadata": {},
   "outputs": [],
   "source": [
    "data1718_merge.pitch_type = data1718_merge.pitch_type.replace({\"FF\": \"FB\", \"FT\": \"FB\", \"KC\": \"KN\"})"
   ]
  },
  {
   "cell_type": "code",
   "execution_count": 23,
   "metadata": {},
   "outputs": [
    {
     "data": {
      "text/plain": [
       "FB    685370\n",
       "SL    240439\n",
       "CH    146135\n",
       "CU    118919\n",
       "SI    108393\n",
       "FC     75883\n",
       "KN     38839\n",
       "FS     22126\n",
       "Name: pitch_type, dtype: int64"
      ]
     },
     "execution_count": 23,
     "metadata": {},
     "output_type": "execute_result"
    }
   ],
   "source": [
    "data1718_merge.pitch_type.value_counts()"
   ]
  },
  {
   "cell_type": "markdown",
   "metadata": {},
   "source": [
    "modified version of proportion calculator (faster)"
   ]
  },
  {
   "cell_type": "markdown",
   "metadata": {},
   "source": [
    "Based on the proportion of pitch types thrown by each pitcher, we will weigh each pitching types differently, and they will be reflected as new features for prediction.\n",
    "\n",
    "Our current weighing scheme for pitch type proportion by year: **2017 : 2018 = 1 : 4**"
   ]
  },
  {
   "cell_type": "code",
   "execution_count": 24,
   "metadata": {},
   "outputs": [],
   "source": [
    "new_1718 = pd.DataFrame()\n",
    "new_1718['pitcher_id'] = [i for i in pitcherid]"
   ]
  },
  {
   "cell_type": "code",
   "execution_count": 25,
   "metadata": {},
   "outputs": [],
   "source": [
    "# for indexing purpose, create a dictionary {pitcher_id: index}\n",
    "pitcher_locator = dict()\n",
    "for i, row in new_1718.iterrows():\n",
    "    pitcher_locator[int(row['pitcher_id'])] = i"
   ]
  },
  {
   "cell_type": "code",
   "execution_count": 26,
   "metadata": {},
   "outputs": [],
   "source": [
    "# MODIFIED: 'FF' and 'FT' becomes 'FB'; 'KN' and 'KC' are combined into 'KN'\n",
    "# Get the pitch type proportion for each pitcher, from 2017 data\n",
    "index = data1718_merge.index\n",
    "new_1718['FB'] = 0\n",
    "new_1718['SL'] = 0\n",
    "new_1718['CH'] = 0\n",
    "new_1718['CU'] = 0\n",
    "new_1718['SI'] = 0\n",
    "new_1718['FC'] = 0\n",
    "new_1718['FS'] = 0\n",
    "new_1718['KN'] = 0"
   ]
  },
  {
   "cell_type": "code",
   "execution_count": 27,
   "metadata": {},
   "outputs": [
    {
     "name": "stdout",
     "output_type": "stream",
     "text": [
      "Start: 2022-01-14 22:25:37.001289\n",
      "End: 2022-01-14 22:29:31.584597\n",
      "\n",
      "It took... 0:03:54.583844\n"
     ]
    }
   ],
   "source": [
    "'''\n",
    "for 2017 data, 1 will be added; for 2018 data, 4 will be added\n",
    "'''\n",
    "ratio = {2017: 1, 2018: 4}\n",
    "start = dt.datetime.now()\n",
    "for _, row in data1718_merge.iterrows():\n",
    "    new_1718.loc[pitcher_locator[row['pitcher_id']], str(row['pitch_type'])] += ratio[int(row['year'])]"
   ]
  },
  {
   "cell_type": "markdown",
   "metadata": {},
   "source": [
    "The following code will calculate the proportion of pitch types thrown by each pitcher"
   ]
  },
  {
   "cell_type": "code",
   "execution_count": 28,
   "metadata": {},
   "outputs": [],
   "source": [
    "proportion = new_1718.iloc[:, 1:].div(new_1718.iloc[:, 1:].sum(axis=1), axis=0)"
   ]
  },
  {
   "cell_type": "code",
   "execution_count": 29,
   "metadata": {},
   "outputs": [],
   "source": [
    "proportion['pitcher_id'] = [i for i in pitcherid]\n",
    "cols = proportion.columns.tolist()\n",
    "cols = cols[-1:] + cols[:-1]\n",
    "proportion = proportion[cols]"
   ]
  },
  {
   "cell_type": "code",
   "execution_count": 30,
   "metadata": {},
   "outputs": [
    {
     "data": {
      "text/html": [
       "<div>\n",
       "<style scoped>\n",
       "    .dataframe tbody tr th:only-of-type {\n",
       "        vertical-align: middle;\n",
       "    }\n",
       "\n",
       "    .dataframe tbody tr th {\n",
       "        vertical-align: top;\n",
       "    }\n",
       "\n",
       "    .dataframe thead th {\n",
       "        text-align: right;\n",
       "    }\n",
       "</style>\n",
       "<table border=\"1\" class=\"dataframe\">\n",
       "  <thead>\n",
       "    <tr style=\"text-align: right;\">\n",
       "      <th></th>\n",
       "      <th>pitcher_id</th>\n",
       "      <th>FB</th>\n",
       "      <th>SL</th>\n",
       "      <th>CH</th>\n",
       "      <th>CU</th>\n",
       "      <th>SI</th>\n",
       "      <th>FC</th>\n",
       "      <th>FS</th>\n",
       "      <th>KN</th>\n",
       "    </tr>\n",
       "  </thead>\n",
       "  <tbody>\n",
       "    <tr>\n",
       "      <th>0</th>\n",
       "      <td>466948</td>\n",
       "      <td>0.532710</td>\n",
       "      <td>0.009346</td>\n",
       "      <td>0.355140</td>\n",
       "      <td>0.102804</td>\n",
       "      <td>0.000000</td>\n",
       "      <td>0.000000</td>\n",
       "      <td>0.0</td>\n",
       "      <td>0.0</td>\n",
       "    </tr>\n",
       "    <tr>\n",
       "      <th>1</th>\n",
       "      <td>456713</td>\n",
       "      <td>0.660906</td>\n",
       "      <td>0.017281</td>\n",
       "      <td>0.001920</td>\n",
       "      <td>0.197389</td>\n",
       "      <td>0.000000</td>\n",
       "      <td>0.122504</td>\n",
       "      <td>0.0</td>\n",
       "      <td>0.0</td>\n",
       "    </tr>\n",
       "    <tr>\n",
       "      <th>2</th>\n",
       "      <td>622608</td>\n",
       "      <td>0.661909</td>\n",
       "      <td>0.197529</td>\n",
       "      <td>0.071480</td>\n",
       "      <td>0.069081</td>\n",
       "      <td>0.000000</td>\n",
       "      <td>0.000000</td>\n",
       "      <td>0.0</td>\n",
       "      <td>0.0</td>\n",
       "    </tr>\n",
       "    <tr>\n",
       "      <th>3</th>\n",
       "      <td>501789</td>\n",
       "      <td>0.081851</td>\n",
       "      <td>0.000000</td>\n",
       "      <td>0.000000</td>\n",
       "      <td>0.365362</td>\n",
       "      <td>0.000000</td>\n",
       "      <td>0.552788</td>\n",
       "      <td>0.0</td>\n",
       "      <td>0.0</td>\n",
       "    </tr>\n",
       "    <tr>\n",
       "      <th>4</th>\n",
       "      <td>596001</td>\n",
       "      <td>0.316554</td>\n",
       "      <td>0.326886</td>\n",
       "      <td>0.059427</td>\n",
       "      <td>0.077449</td>\n",
       "      <td>0.219685</td>\n",
       "      <td>0.000000</td>\n",
       "      <td>0.0</td>\n",
       "      <td>0.0</td>\n",
       "    </tr>\n",
       "  </tbody>\n",
       "</table>\n",
       "</div>"
      ],
      "text/plain": [
       "   pitcher_id        FB        SL        CH        CU        SI        FC  \\\n",
       "0      466948  0.532710  0.009346  0.355140  0.102804  0.000000  0.000000   \n",
       "1      456713  0.660906  0.017281  0.001920  0.197389  0.000000  0.122504   \n",
       "2      622608  0.661909  0.197529  0.071480  0.069081  0.000000  0.000000   \n",
       "3      501789  0.081851  0.000000  0.000000  0.365362  0.000000  0.552788   \n",
       "4      596001  0.316554  0.326886  0.059427  0.077449  0.219685  0.000000   \n",
       "\n",
       "    FS   KN  \n",
       "0  0.0  0.0  \n",
       "1  0.0  0.0  \n",
       "2  0.0  0.0  \n",
       "3  0.0  0.0  \n",
       "4  0.0  0.0  "
      ]
     },
     "execution_count": 30,
     "metadata": {},
     "output_type": "execute_result"
    }
   ],
   "source": [
    "proportion.head(5)"
   ]
  },
  {
   "cell_type": "code",
   "execution_count": 31,
   "metadata": {},
   "outputs": [],
   "source": [
    "'''\n",
    "IMPORTANT: proportion is the actual proportion of the pitches;\n",
    "new_1718 contains the raw number of pitches\n",
    "'''\n",
    "proportion.to_csv(\"new_1718.csv\")"
   ]
  },
  {
   "cell_type": "code",
   "execution_count": 32,
   "metadata": {},
   "outputs": [
    {
     "data": {
      "text/html": [
       "<div>\n",
       "<style scoped>\n",
       "    .dataframe tbody tr th:only-of-type {\n",
       "        vertical-align: middle;\n",
       "    }\n",
       "\n",
       "    .dataframe tbody tr th {\n",
       "        vertical-align: top;\n",
       "    }\n",
       "\n",
       "    .dataframe thead th {\n",
       "        text-align: right;\n",
       "    }\n",
       "</style>\n",
       "<table border=\"1\" class=\"dataframe\">\n",
       "  <thead>\n",
       "    <tr style=\"text-align: right;\">\n",
       "      <th></th>\n",
       "      <th>FB</th>\n",
       "      <th>SL</th>\n",
       "      <th>CH</th>\n",
       "      <th>CU</th>\n",
       "      <th>SI</th>\n",
       "      <th>FC</th>\n",
       "      <th>FS</th>\n",
       "      <th>KN</th>\n",
       "    </tr>\n",
       "  </thead>\n",
       "  <tbody>\n",
       "    <tr>\n",
       "      <th>0</th>\n",
       "      <td>0.532710</td>\n",
       "      <td>0.009346</td>\n",
       "      <td>0.355140</td>\n",
       "      <td>0.102804</td>\n",
       "      <td>0.000000</td>\n",
       "      <td>0.000000</td>\n",
       "      <td>0.0</td>\n",
       "      <td>0.0</td>\n",
       "    </tr>\n",
       "    <tr>\n",
       "      <th>1</th>\n",
       "      <td>0.660906</td>\n",
       "      <td>0.017281</td>\n",
       "      <td>0.001920</td>\n",
       "      <td>0.197389</td>\n",
       "      <td>0.000000</td>\n",
       "      <td>0.122504</td>\n",
       "      <td>0.0</td>\n",
       "      <td>0.0</td>\n",
       "    </tr>\n",
       "    <tr>\n",
       "      <th>2</th>\n",
       "      <td>0.661909</td>\n",
       "      <td>0.197529</td>\n",
       "      <td>0.071480</td>\n",
       "      <td>0.069081</td>\n",
       "      <td>0.000000</td>\n",
       "      <td>0.000000</td>\n",
       "      <td>0.0</td>\n",
       "      <td>0.0</td>\n",
       "    </tr>\n",
       "    <tr>\n",
       "      <th>3</th>\n",
       "      <td>0.081851</td>\n",
       "      <td>0.000000</td>\n",
       "      <td>0.000000</td>\n",
       "      <td>0.365362</td>\n",
       "      <td>0.000000</td>\n",
       "      <td>0.552788</td>\n",
       "      <td>0.0</td>\n",
       "      <td>0.0</td>\n",
       "    </tr>\n",
       "    <tr>\n",
       "      <th>4</th>\n",
       "      <td>0.316554</td>\n",
       "      <td>0.326886</td>\n",
       "      <td>0.059427</td>\n",
       "      <td>0.077449</td>\n",
       "      <td>0.219685</td>\n",
       "      <td>0.000000</td>\n",
       "      <td>0.0</td>\n",
       "      <td>0.0</td>\n",
       "    </tr>\n",
       "  </tbody>\n",
       "</table>\n",
       "</div>"
      ],
      "text/plain": [
       "         FB        SL        CH        CU        SI        FC   FS   KN\n",
       "0  0.532710  0.009346  0.355140  0.102804  0.000000  0.000000  0.0  0.0\n",
       "1  0.660906  0.017281  0.001920  0.197389  0.000000  0.122504  0.0  0.0\n",
       "2  0.661909  0.197529  0.071480  0.069081  0.000000  0.000000  0.0  0.0\n",
       "3  0.081851  0.000000  0.000000  0.365362  0.000000  0.552788  0.0  0.0\n",
       "4  0.316554  0.326886  0.059427  0.077449  0.219685  0.000000  0.0  0.0"
      ]
     },
     "execution_count": 32,
     "metadata": {},
     "output_type": "execute_result"
    }
   ],
   "source": [
    "proportion.iloc[:, 1:].head(5)"
   ]
  },
  {
   "cell_type": "code",
   "execution_count": 33,
   "metadata": {},
   "outputs": [
    {
     "data": {
      "text/html": [
       "<div>\n",
       "<style scoped>\n",
       "    .dataframe tbody tr th:only-of-type {\n",
       "        vertical-align: middle;\n",
       "    }\n",
       "\n",
       "    .dataframe tbody tr th {\n",
       "        vertical-align: top;\n",
       "    }\n",
       "\n",
       "    .dataframe thead th {\n",
       "        text-align: right;\n",
       "    }\n",
       "</style>\n",
       "<table border=\"1\" class=\"dataframe\">\n",
       "  <thead>\n",
       "    <tr style=\"text-align: right;\">\n",
       "      <th></th>\n",
       "      <th>FB</th>\n",
       "      <th>SL</th>\n",
       "      <th>CH</th>\n",
       "      <th>CU</th>\n",
       "      <th>SI</th>\n",
       "      <th>FC</th>\n",
       "      <th>FS</th>\n",
       "      <th>KN</th>\n",
       "    </tr>\n",
       "  </thead>\n",
       "  <tbody>\n",
       "    <tr>\n",
       "      <th>0</th>\n",
       "      <td>57</td>\n",
       "      <td>1</td>\n",
       "      <td>38</td>\n",
       "      <td>11</td>\n",
       "      <td>0</td>\n",
       "      <td>0</td>\n",
       "      <td>0</td>\n",
       "      <td>0</td>\n",
       "    </tr>\n",
       "    <tr>\n",
       "      <th>1</th>\n",
       "      <td>1721</td>\n",
       "      <td>45</td>\n",
       "      <td>5</td>\n",
       "      <td>514</td>\n",
       "      <td>0</td>\n",
       "      <td>319</td>\n",
       "      <td>0</td>\n",
       "      <td>0</td>\n",
       "    </tr>\n",
       "    <tr>\n",
       "      <th>2</th>\n",
       "      <td>5519</td>\n",
       "      <td>1647</td>\n",
       "      <td>596</td>\n",
       "      <td>576</td>\n",
       "      <td>0</td>\n",
       "      <td>0</td>\n",
       "      <td>0</td>\n",
       "      <td>0</td>\n",
       "    </tr>\n",
       "    <tr>\n",
       "      <th>3</th>\n",
       "      <td>345</td>\n",
       "      <td>0</td>\n",
       "      <td>0</td>\n",
       "      <td>1540</td>\n",
       "      <td>0</td>\n",
       "      <td>2330</td>\n",
       "      <td>0</td>\n",
       "      <td>0</td>\n",
       "    </tr>\n",
       "    <tr>\n",
       "      <th>4</th>\n",
       "      <td>4075</td>\n",
       "      <td>4208</td>\n",
       "      <td>765</td>\n",
       "      <td>997</td>\n",
       "      <td>2828</td>\n",
       "      <td>0</td>\n",
       "      <td>0</td>\n",
       "      <td>0</td>\n",
       "    </tr>\n",
       "  </tbody>\n",
       "</table>\n",
       "</div>"
      ],
      "text/plain": [
       "     FB    SL   CH    CU    SI    FC  FS  KN\n",
       "0    57     1   38    11     0     0   0   0\n",
       "1  1721    45    5   514     0   319   0   0\n",
       "2  5519  1647  596   576     0     0   0   0\n",
       "3   345     0    0  1540     0  2330   0   0\n",
       "4  4075  4208  765   997  2828     0   0   0"
      ]
     },
     "execution_count": 33,
     "metadata": {},
     "output_type": "execute_result"
    }
   ],
   "source": [
    "new_1718.iloc[:, 1:].head(5)"
   ]
  },
  {
   "cell_type": "code",
   "execution_count": null,
   "metadata": {},
   "outputs": [],
   "source": [
    "# continue from below, if \"new_1718.csv\" already available\n",
    "# --------------------------------------------"
   ]
  },
  {
   "cell_type": "code",
   "execution_count": 34,
   "metadata": {},
   "outputs": [],
   "source": [
    "new_1718 = pd.read_csv(\"new_1718.csv\")"
   ]
  },
  {
   "cell_type": "code",
   "execution_count": 35,
   "metadata": {},
   "outputs": [],
   "source": [
    "# Using only 2018 year\n",
    "data18 = data[data['year'] == '2018']"
   ]
  },
  {
   "cell_type": "code",
   "execution_count": 36,
   "metadata": {},
   "outputs": [],
   "source": [
    "# Merging the data with names\n",
    "data18 = pd.merge(data18, names, left_on = 'pitcher_id', right_on = 'id')"
   ]
  },
  {
   "cell_type": "code",
   "execution_count": 37,
   "metadata": {},
   "outputs": [],
   "source": [
    "# Making speed as numeric\n",
    "data18['speed'] = data18['speed'].str[:-3]\n",
    "data18['speed'] = data18.speed.astype('int')"
   ]
  },
  {
   "cell_type": "code",
   "execution_count": 38,
   "metadata": {},
   "outputs": [],
   "source": [
    "# Changing to numeric\n",
    "number = LabelEncoder()\n",
    "data18['venue_name'] = number.fit_transform(data18['venue_name'])\n",
    "data18['condition'] = number.fit_transform(data18['condition'])"
   ]
  },
  {
   "cell_type": "markdown",
   "metadata": {},
   "source": [
    "We have attempted to add several new features. One is wind direction, that will be labelled by whether the wind condition is for / against / neutral of pitcher. Another one is the pitch code, which indicates how that exact pitch resulted in which in-play: was it out? no out? run? and else."
   ]
  },
  {
   "cell_type": "code",
   "execution_count": 39,
   "metadata": {},
   "outputs": [],
   "source": [
    "# function that is used to label:\n",
    "# 1 if the wind condition is in advantage of hitter (Out);\n",
    "# 2 if the wind condition is in advantage of pitcher (In);\n",
    "# 0 if neutral\n",
    "def wind_direction(row):\n",
    "    if row['direction'][:1] == 'O':\n",
    "        return 1\n",
    "    elif row['direction'][:1] == 'I':\n",
    "        return 2\n",
    "    else:\n",
    "        return 0"
   ]
  },
  {
   "cell_type": "code",
   "execution_count": 40,
   "metadata": {},
   "outputs": [],
   "source": [
    "# Changind dirction value to 0,1,2\n",
    "data18['direction'] = data18.apply(wind_direction, axis=1)"
   ]
  },
  {
   "cell_type": "code",
   "execution_count": null,
   "metadata": {},
   "outputs": [],
   "source": [
    "# do the same for pitch codes"
   ]
  },
  {
   "cell_type": "code",
   "execution_count": 41,
   "metadata": {},
   "outputs": [
    {
     "data": {
      "text/plain": [
       "0    B\n",
       "1    F\n",
       "2    B\n",
       "3    D\n",
       "4    C\n",
       "Name: code, dtype: object"
      ]
     },
     "execution_count": 41,
     "metadata": {},
     "output_type": "execute_result"
    }
   ],
   "source": [
    "data1718['code'].head(5)"
   ]
  },
  {
   "cell_type": "code",
   "execution_count": 42,
   "metadata": {},
   "outputs": [],
   "source": [
    "# function that is used to label:\n",
    "# 1 if in-play; out,\n",
    "# 2 if in-play; no out,\n",
    "# 3 if in-play; runs,\n",
    "# 4 if hit by pitch,\n",
    "# 0 if else\n",
    "def last_pitch(row):\n",
    "    if row['code'] == 'X':\n",
    "        return 1\n",
    "    elif row['code'] == 'D':\n",
    "        return 2\n",
    "    elif row['code'] == 'E':\n",
    "        return 3\n",
    "    elif row['code'] == 'H':\n",
    "        return 4\n",
    "    else:\n",
    "        return 0"
   ]
  },
  {
   "cell_type": "code",
   "execution_count": 43,
   "metadata": {},
   "outputs": [],
   "source": [
    "data18['code'] = data18.apply(last_pitch, axis=1)"
   ]
  },
  {
   "cell_type": "code",
   "execution_count": 44,
   "metadata": {},
   "outputs": [
    {
     "data": {
      "text/plain": [
       "0    596228\n",
       "1     81801\n",
       "2     28526\n",
       "3     15967\n",
       "4      1922\n",
       "Name: code, dtype: int64"
      ]
     },
     "execution_count": 44,
     "metadata": {},
     "output_type": "execute_result"
    }
   ],
   "source": [
    "data18['code'].value_counts()"
   ]
  },
  {
   "cell_type": "code",
   "execution_count": 45,
   "metadata": {},
   "outputs": [],
   "source": [
    "new_data = pd.DataFrame(data18[['pitch_type', 'b_score', 's_count', 'outs', 'pitch_num', \\\n",
    "                            'on_1b', 'on_2b', 'on_3b', 'batter_id', 'inning', 'p_score', 'p_throws',\\\n",
    "                             'pitcher_id', 'stand', 'top', 'b_count',\\\n",
    "                          'venue_name','speed', 'direction',\\\n",
    "                          'temperature', 'condition', 'code']])"
   ]
  },
  {
   "cell_type": "code",
   "execution_count": 46,
   "metadata": {},
   "outputs": [],
   "source": [
    "pXs = new_data"
   ]
  },
  {
   "cell_type": "markdown",
   "metadata": {},
   "source": [
    "pXs is the very final file that includes all the features we will be using to train for pitch type prediction."
   ]
  },
  {
   "cell_type": "code",
   "execution_count": 47,
   "metadata": {},
   "outputs": [],
   "source": [
    "pXs = new_data.to_csv(\"pXs.csv\")"
   ]
  }
 ],
 "metadata": {
  "kernelspec": {
   "display_name": "Python 3 (ipykernel)",
   "language": "python",
   "name": "python3"
  },
  "language_info": {
   "codemirror_mode": {
    "name": "ipython",
    "version": 3
   },
   "file_extension": ".py",
   "mimetype": "text/x-python",
   "name": "python",
   "nbconvert_exporter": "python",
   "pygments_lexer": "ipython3",
   "version": "3.7.8"
  }
 },
 "nbformat": 4,
 "nbformat_minor": 4
}
